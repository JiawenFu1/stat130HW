{
  "nbformat": 4,
  "nbformat_minor": 0,
  "metadata": {
    "colab": {
      "provenance": [],
      "authorship_tag": "ABX9TyNYO8/ZyubVu65zyozJletY",
      "include_colab_link": true
    },
    "kernelspec": {
      "name": "python3",
      "display_name": "Python 3"
    },
    "language_info": {
      "name": "python"
    }
  },
  "cells": [
    {
      "cell_type": "markdown",
      "metadata": {
        "id": "view-in-github",
        "colab_type": "text"
      },
      "source": [
        "<a href=\"https://colab.research.google.com/github/JiawenFu1/stat130HW/blob/main/Week05HW.ipynb\" target=\"_parent\"><img src=\"https://colab.research.google.com/assets/colab-badge.svg\" alt=\"Open In Colab\"/></a>"
      ]
    },
    {
      "cell_type": "markdown",
      "source": [
        "1. The \"first pre-lecture video\" (above) describes hypothesis testing as addressing \"an idea that can be tested\", and the end of the video then discusses what our actual intended purpose in setting up a null hypothesis is. What is the key factor that makes the difference between ideas that can, and cannot be examined and tested statistically? What would you describe is the key \"criteria\" defining what a good null hypothesis is? And what is the difference between a null hypothesis and an alternative hypothesis in the context of hypothesis testing? Answer these questions with concise explanations in your own words."
      ],
      "metadata": {
        "id": "-wIThPZGy1a6"
      }
    },
    {
      "cell_type": "markdown",
      "source": [
        "Key Factor for Testable Ideas: The key factor that differentiates ideas that can be statistically tested is whether they are measurable and quantifiable. A hypothesis must be framed in such a way that data can be collected and analyzed to confirm or refute it."
      ],
      "metadata": {
        "id": "b55y5l6iH6gw"
      }
    },
    {
      "cell_type": "markdown",
      "source": [
        "Criteria for a Good Null Hypothesis: A good null hypothesis should be clear, specific, and formulated in a way that allows for objective testing. It typically states that there is no effect, difference, or relationship between variables. The null hypothesis must be falsifiable, meaning that evidence can be gathered to either support or reject it."
      ],
      "metadata": {
        "id": "gHdv3vXGI1wK"
      }
    },
    {
      "cell_type": "markdown",
      "source": [
        "Difference Between Null and Alternative Hypothesis: The null hypothesis (H₀) proposes that there is no effect or relationship between variables, and any observed difference is due to random chance. It serves as the default assumption in hypothesis testing. The alternative hypothesis (H₁), on the other hand, suggests that there is a significant effect or relationship. Hypothesis testing aims to determine whether there is enough evidence to reject the null hypothesis in favor of the alternative."
      ],
      "metadata": {
        "id": "ghSSW7nCI7H5"
      }
    },
    {
      "cell_type": "markdown",
      "source": [
        "**summary:**\n",
        "\n",
        "Testable ideas: Must be measurable and quantifiable.\n",
        "\n",
        "Good null hypothesis: Clear, specific, testable, and falsifiable, stating no effect or relationship.\n",
        "\n",
        "Null vs. alternative hypothesis: The null (H₀) assumes no effect; the alternative (H₁) suggests a significant effect. Testing determines if the null can be rejected.\n",
        "\n",
        "\n",
        "---\n",
        "\n"
      ],
      "metadata": {
        "id": "XuovnxcwJMkV"
      }
    },
    {
      "cell_type": "markdown",
      "source": [
        "2. Towards the end of the \"first pre-lecture\" video (above) it is stated that, \"It is important to note that outcomes of tests refer to the population parameter, rather than the sample statistic! As such, the result that we get is for the population.\" In terms of the distinctions between the concepts of\n",
        "xi's,\n",
        ", µ\n",
        ", and µ0\n",
        ", how would you describe what the sentence above means? Explain this concisely in your own words for a \"non-statsitical\" audience, defining the technical statistical terminology you use in your answer."
      ],
      "metadata": {
        "id": "ypRDac0-JU8l"
      }
    },
    {
      "cell_type": "markdown",
      "source": [
        "xi\n",
        "  (Sample Values): These are the individual data points collected in a study. For example, if I survey 20 people about their ages, each person's age would be a sample value."
      ],
      "metadata": {
        "id": "xKU2Jl6bK_nf"
      }
    },
    {
      "cell_type": "markdown",
      "source": [
        "\n",
        "x\n",
        "ˉ\n",
        "  (Sample Average): This is the average (or mean) of all the sample values collected."
      ],
      "metadata": {
        "id": "o1MMpYfzMIzy"
      }
    },
    {
      "cell_type": "markdown",
      "source": [
        "μ (Population Mean): This represents the true average of a characteristic in the entire population. It's what we would like to know but usually can't measure directly because it's impractical to gather data on every individual in a population."
      ],
      "metadata": {
        "id": "epXheDm8MUVR"
      }
    },
    {
      "cell_type": "markdown",
      "source": [
        "μ0\n",
        "​\n",
        "  (Null Hypothesis Value): This is the specific value that we assume the population mean is equal to under the null hypothesis. In hypothesis testing,\n",
        "μ0\n",
        "  is what we are testing against, typically suggesting no effect or no difference."
      ],
      "metadata": {
        "id": "zpArfZHGMYB8"
      }
    },
    {
      "cell_type": "markdown",
      "source": [
        "**summary:**\n",
        "\n",
        "Hypothesis testing uses sample data to draw conclusions about the population mean, testing whether the data supports rejecting the null hypothesis (\n",
        "μ=μ0\n",
        "​\n",
        " ).\n",
        "\n",
        "\n",
        "---\n",
        "\n"
      ],
      "metadata": {
        "id": "364pGLcNMjHz"
      }
    },
    {
      "cell_type": "markdown",
      "source": [
        "3. The second \"Pre-lecture\" video (above) explains that we \"imagine a world where the null hypothesis is true\" when calculating a p-value? Explain why this is in your own words in a way that makes the most sense to you."
      ],
      "metadata": {
        "id": "vy4vzWIwNHpB"
      }
    },
    {
      "cell_type": "markdown",
      "source": [
        "When we calculate a p-value, we assume the null hypothesis is true, meaning there's no real effect or difference. We then look at how likely it is to get our observed result (or something more extreme) just by chance. The p-value helps us see if the result is surprising or unusual in this \"null hypothesis world.\" If the p-value is very small, it means the result is unlikely to happen by chance, suggesting the null hypothesis might not be true.\n",
        "\n",
        "\n",
        "---\n",
        "\n"
      ],
      "metadata": {
        "id": "AAqGSzWnNMCf"
      }
    },
    {
      "cell_type": "markdown",
      "source": [
        "4. The second \"Pre-lecture\" video (above) suggests that a smaller p-value makes the null hypothesis look more ridiculous. Explain why this is in your own words in a way that makes the most sense to you, clarifying the meaning of any technical statistical terminology you use in your answer."
      ],
      "metadata": {
        "id": "L70_pWr_NukS"
      }
    },
    {
      "cell_type": "markdown",
      "source": [
        "A smaller p-value makes the null hypothesis look more \"ridiculous\" because it shows that the observed result is very unlikely to occur if the null hypothesis were true."
      ],
      "metadata": {
        "id": "DwJ_Ez2yNyyM"
      }
    },
    {
      "cell_type": "markdown",
      "source": [
        "When we assume the null hypothesis, we expect most test results to fall within a certain range. If the observed result is far from that range (small p-value), it suggests that the null hypothesis is probably wrong, making it look \"ridiculous.\"\n",
        "\n",
        "\n",
        "---\n",
        "\n"
      ],
      "metadata": {
        "id": "eCemi-8TONoJ"
      }
    },
    {
      "cell_type": "markdown",
      "source": [
        "5. Güntürkün (2003) recorded how kissing couples tilt their heads. 80 out of 124 couples, or 64.5% tilted their heads to the right. Simulate a p-value using a \"50/50 coin-flipping\" model for the assumption of the null hypothesis H0\n",
        " that the population of humans don't have left or right head tilt tendencies when kissing, and use the table below to determine the level of evidence we have against H0\n",
        "."
      ],
      "metadata": {
        "id": "TGImZh8COWce"
      }
    },
    {
      "cell_type": "markdown",
      "source": [
        "The null hypothesis\n",
        "H0\n",
        "  assumes that there is no preference for tilting heads to the left or right when kissing, meaning the probability of tilting right or left is 0.5."
      ],
      "metadata": {
        "id": "8HaE-2u0OluJ"
      }
    },
    {
      "cell_type": "markdown",
      "source": [
        "Set up the simulation (binomial test):\n",
        "\n",
        "The scenario is like a \"50/50 coin flip\" where each kiss either tilts right or left.\n",
        "\n",
        "In the study, 80 out of 124 couples tilted their heads to the right (64.5%)."
      ],
      "metadata": {
        "id": "pkqPCLq6PTik"
      }
    },
    {
      "cell_type": "markdown",
      "source": [
        "A binomial test can be used to simulate the number of couples tilting their heads to the right, assuming\n",
        "H0\n",
        "  is true.\n",
        "\n",
        "We need to calculate the probability of getting 80 or more couples tilting their heads right out of 124 under the assumption of a 50/50 split. This can be done using a binomial distribution with\n",
        "n=124 and\n",
        "p=0.5."
      ],
      "metadata": {
        "id": "Rl7ACOpmPamn"
      }
    },
    {
      "cell_type": "markdown",
      "source": [
        "Since\n",
        "0.001\n",
        "≤\n",
        "𝑝\n",
        "<\n",
        "0.01,\n",
        "0.001≤p<0.01, this provides strong evidence against the null hypothesis that there is no preference for head tilting direction when kissing. Thus, we may reject the null hypothesis and conclude that there is likely a preference for tilting heads to the right when kissing.\n",
        "\n",
        "\n",
        "---\n",
        "\n"
      ],
      "metadata": {
        "id": "5c-ZsTglPuEW"
      }
    },
    {
      "cell_type": "markdown",
      "source": [
        "6. Can a smaller p-value definitively prove that the null hypothesis is false? Is it possible to definitively prove that Fido (from the \"second pre-lecture video\") is innocent using a p-value? Is it possible to difinitively prove that Fido is guilty using a p-value? How low or high does a p-value have to be to definitely prove one or the other? Explain this concisely in your own words."
      ],
      "metadata": {
        "id": "7gjExdj9P72t"
      }
    },
    {
      "cell_type": "markdown",
      "source": [
        "A smaller p-value cannot definitively prove that the null hypothesis is false. A p-value tells us how likely the observed result is under the assumption that the null hypothesis is true, but it doesn’t give absolute proof. So, a p-value can’t prove Fido is innocent or guilty with certainty. It just helps us decide if the evidence strongly suggests rejecting the null hypothesis, but it can never give 100% proof either way.\n",
        "\n",
        "\n",
        "---\n",
        "\n"
      ],
      "metadata": {
        "id": "cplbPGbpQAV3"
      }
    },
    {
      "cell_type": "markdown",
      "source": [
        "7. In the second half of the \"first pre-lecture video\" the concept of a \"one sided\" (or \"one tailed\") test is introduced in contrast to a \"two sided\" (or \"two tailed\") test. Work with a ChatBot to adjust the code from \"Demo II of the Week 5 TUT\" (which revisits the \"Vaccine Data Analysis Assignment\" from Week 04 HW \"Question 8\") in order to compute a p-value for a \"one sided\" (or \"one tailed\") hypothesis test rather than the \"two sided\" (or \"two tailed\") version it provides. Describe (perhaps with the help of your ChatBot) what changed in the code; how this changes the interpretation of the hypothesis test; and whether or not we should indeed expect the p-value to be smaller in the \"one tailed\" versus \"two tailed\" analysis."
      ],
      "metadata": {
        "id": "KYcdraOpQYAK"
      }
    },
    {
      "cell_type": "markdown",
      "source": [
        "Two-Tailed Test:\n",
        "\n",
        "In the two-tailed test, we check whether the absolute difference between the simulated statistic and the population parameter under\n",
        "H0\n",
        "​\n",
        "  (in this case, 0.5) is greater than or equal to the absolute difference between the observed statistic and 0.5. This means both directions (greater or smaller) are considered equally.\n",
        "\n"
      ],
      "metadata": {
        "id": "VAI5dJG0QbKR"
      }
    },
    {
      "cell_type": "code",
      "source": [
        "SimStats_as_or_more_extreme_than_ObsStat = \\\n",
        "    abs(simulated_statistics - population_parameter_value_under_H0) >= \\\n",
        "    abs(observed_statistic - population_parameter_value_under_H0)"
      ],
      "metadata": {
        "id": "EA2OZqA7Siw0"
      },
      "execution_count": null,
      "outputs": []
    },
    {
      "cell_type": "markdown",
      "source": [
        "One-Tailed Test:\n",
        "\n",
        "For a one-tailed test, you only check in one direction. For example, if you are testing whether the vaccine results in greater improvement (positive health score change), you would adjust the condition to only include simulated statistics greater than or equal to the observed statistic:"
      ],
      "metadata": {
        "id": "yaHNgkMMSmlq"
      }
    },
    {
      "cell_type": "code",
      "source": [
        "SimStats_as_or_more_extreme_than_ObsStat = \\\n",
        "    simulated_statistics >= observed_statistic"
      ],
      "metadata": {
        "id": "ftlG7kfISq4F"
      },
      "execution_count": null,
      "outputs": []
    },
    {
      "cell_type": "markdown",
      "source": [
        "If the hypothesis is that the vaccine could only make things worse, use:"
      ],
      "metadata": {
        "id": "wSjgtaGCStla"
      }
    },
    {
      "cell_type": "code",
      "source": [
        "SimStats_as_or_more_extreme_than_ObsStat = \\\n",
        "    simulated_statistics <= observed_statistic"
      ],
      "metadata": {
        "id": "tqlZrFR-SyT1"
      },
      "execution_count": null,
      "outputs": []
    },
    {
      "cell_type": "markdown",
      "source": [
        "Interpretation of the Hypothesis Test:\n",
        "\n",
        "In a two-tailed test, you are testing whether the observed result is either significantly greater or significantly smaller than the hypothesized value under\n",
        "H0\n",
        "​\n",
        " . This means that both positive and negative extremes count.\n",
        "\n",
        "In a one-tailed test, you are only testing for one direction of extreme, either higher or lower, depending on your hypothesis."
      ],
      "metadata": {
        "id": "RdisT_Q8S4wj"
      }
    },
    {
      "cell_type": "markdown",
      "source": [
        "Expected Change in p-value:\n",
        "\n",
        "Since a one-tailed test only considers one direction, you effectively ignore the possibility of an extreme in the opposite direction. This means that, typically, the p-value in a one-tailed test will be smaller than in a two-tailed test, assuming the observed statistic is in the direction you're testing. This is because you are only considering half the possible outcomes (those in the direction of your hypothesis).\n",
        "\n"
      ],
      "metadata": {
        "id": "7fTjABeQTqrw"
      }
    },
    {
      "cell_type": "markdown",
      "source": [
        "**summary:**\n",
        "\n",
        "The condition for determining \"as or more extreme\" values is now one-directional.\n",
        "\n",
        "The p-value will likely be smaller because fewer simulated statistics will be considered \"as extreme\" under the null hypothesis.\n",
        "\n",
        "**link:**\n",
        "\n",
        "https://chatgpt.com/c/670f2bea-b958-800d-9e5c-33c768967c48\n",
        "\n",
        "\n",
        "---\n",
        "\n"
      ],
      "metadata": {
        "id": "TMaxd76yTsTY"
      }
    },
    {
      "cell_type": "markdown",
      "source": [
        "8. Complete the following assignment."
      ],
      "metadata": {
        "id": "Xn4Bvs6oT31j"
      }
    },
    {
      "cell_type": "markdown",
      "source": [
        "Fisher's Tea Experiment"
      ],
      "metadata": {
        "id": "W2OsV__sT_Dc"
      }
    },
    {
      "cell_type": "markdown",
      "source": [
        "Null Hypothesis\n",
        "H0\n",
        "​\n",
        "\n",
        "Formal Statement:\n",
        "\n",
        "H0: p=0.5\n",
        "\n",
        "The proportion of students who correctly identified which was poured first is equal to 50%. In other words, the students are just guessing.\n",
        "\n",
        "Informal Interpretation:\n",
        "\n",
        "Under the null hypothesis, the students have a 50% chance of guessing correctly (similar to flipping a coin). This means there is no skill involved in identifying the order of pouring."
      ],
      "metadata": {
        "id": "Psuj6pFCUCeM"
      }
    },
    {
      "cell_type": "markdown",
      "source": [
        "Alternative Hypothesis\n",
        "HA\n",
        "​\n",
        "\n",
        "Two-Tailed Test:\n",
        "\n",
        "HA: p≠0.5\n",
        "\n",
        "The proportion of students who correctly identified the order is different from 50%, meaning students may not just be guessing.\n",
        "\n",
        "One-Tailed Test (optional):\n",
        "\n",
        "If you were specifically testing whether more students correctly identified the order than would be expected by chance, the alternative hypothesis would be:\n",
        "\n",
        "HA: p>0.5 (one-tailed test)."
      ],
      "metadata": {
        "id": "NOxctyxSV03V"
      }
    },
    {
      "cell_type": "markdown",
      "source": [
        "We will use a z-test for proportions to determine if the sample proportion of correct identifications is significantly different from 50%.\n",
        "\n",
        "Sample Proportion:\n",
        "\n",
        "p\n",
        "^\n",
        "=\n",
        "49/80\n",
        "=\n",
        "0.6125\n",
        "\n",
        "\n",
        "Here, 49 out of 80 students correctly identified the order, which gives us a sample proportion of 0.6125.\n",
        "\n",
        "Null Hypothesis Proportion:\n",
        "\n",
        "p0\n",
        "​\n",
        " =0.5\n",
        "\n",
        "Standard Error:\n",
        "\n",
        "The standard error (SE) of the sampling distribution is calculated using:\n",
        "![Image 2024-10-15 at 11.26 PM.jpeg](data:image/jpeg;base64,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)"
      ],
      "metadata": {
        "id": "XcYpJTVmWpCG"
      }
    },
    {
      "cell_type": "markdown",
      "source": [
        "Test Statistic:\n",
        "\n",
        "The z-statistic is calculated as:\n",
        "\n",
        "![Image 2024-10-15 at 11.27 PM.jpeg](data:image/jpeg;base64,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)"
      ],
      "metadata": {
        "id": "199PQzAgXTJY"
      }
    },
    {
      "cell_type": "markdown",
      "source": [
        "Calculate the P-Value\n",
        "\n",
        "The p-value for a two-tailed test is obtained from the standard normal distribution:\n",
        "\n",
        "p-value=2×P(Z>2.01)=2×(1−0.978)=0.044\n",
        "\n",
        "Since the p-value (0.044) is less than the significance level\n",
        "α=0.05, we reject the null hypothesis."
      ],
      "metadata": {
        "id": "FiFdhV7nXfH0"
      }
    },
    {
      "cell_type": "markdown",
      "source": [
        "Conclusion Regarding the Null Hypothesis:\n",
        "\n",
        "Since the p-value is less than 0.05, we reject the null hypothesis and conclude that the proportion of students correctly identifying the order of pouring is significantly different from 50%. This suggests that students are not merely guessing.\n",
        "\n",
        "\n",
        "---\n",
        "\n"
      ],
      "metadata": {
        "id": "kAmie_67X6F7"
      }
    },
    {
      "cell_type": "markdown",
      "source": [
        "9. Have you reviewed the course wiki-textbook and interacted with a ChatBot (or, if that wasn't sufficient, real people in the course piazza discussion board or TA office hours) to help you understand all the material in the tutorial and lecture that you didn't quite follow when you first saw it?\n"
      ],
      "metadata": {
        "id": "9Xn9q1kTYAQw"
      }
    },
    {
      "cell_type": "markdown",
      "source": [
        "Yes."
      ],
      "metadata": {
        "id": "0sMYFLOxYEkj"
      }
    }
  ]
}