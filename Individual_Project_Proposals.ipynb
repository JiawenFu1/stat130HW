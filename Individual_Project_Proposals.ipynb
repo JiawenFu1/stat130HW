{
  "nbformat": 4,
  "nbformat_minor": 0,
  "metadata": {
    "colab": {
      "provenance": [],
      "authorship_tag": "ABX9TyO8ahXuRwyxxvLPU6rcdfJg",
      "include_colab_link": true
    },
    "kernelspec": {
      "name": "python3",
      "display_name": "Python 3"
    },
    "language_info": {
      "name": "python"
    }
  },
  "cells": [
    {
      "cell_type": "markdown",
      "metadata": {
        "id": "view-in-github",
        "colab_type": "text"
      },
      "source": [
        "<a href=\"https://colab.research.google.com/github/JiawenFu1/stat130HW/blob/main/Individual_Project_Proposals.ipynb\" target=\"_parent\"><img src=\"https://colab.research.google.com/assets/colab-badge.svg\" alt=\"Open In Colab\"/></a>"
      ]
    },
    {
      "cell_type": "markdown",
      "source": [
        "**Research Question 1**"
      ],
      "metadata": {
        "id": "yoZ48EL97m59"
      }
    },
    {
      "cell_type": "markdown",
      "source": [
        "**Question**: How do demographic characteristics influence CSCS scores? (e.g. age and gender)\n",
        "\n",
        "Understanding the relationship between demographic factors and academic performance is critical. By examining the relationship between age and gender and CSCS scores, we may discover hidden patterns or differences in performance. Such insights may allow educators to adapt teaching methods to more effectively meet the needs of specific student populations. Exploring demographic factors also supports equity practices. For example, if an age group consistently scores higher or lower than other groups, targeted supports may be needed for that group. Recognizing these demographic trends can contribute to building a learning environment that responds to varied student needs."
      ],
      "metadata": {
        "id": "YilcpRDFDi2a"
      }
    },
    {
      "cell_type": "markdown",
      "source": [
        "**Variables 1**: Age, gender and CSCS scores\n",
        "\n",
        "I plan to calculate summary statistics (mean, median, and standard deviation) for CSCS scores for different demographic groups. This approach will help to quantify the average performance and variability within each group.\n",
        "\n",
        "Box plots will be used to visually represent the spread and central tendencies of CSCS scores across age and gender categories. They are particularly useful for spotting outliers and variations between groups, which are essential for understanding performance trends at a glance.\n",
        "\n",
        "By employing summary statistics and box plots, I’ll be able to provide a clear overview of how demographic variables are associated with CSCS scores. These visualizations and statistical summaries can help stakeholders quickly grasp differences and draw initial conclusions about potential demographic influences on academic performance."
      ],
      "metadata": {
        "id": "NrGeCUYxEiRK"
      }
    },
    {
      "cell_type": "markdown",
      "source": [
        "**Analysis 1**:\n",
        "\n",
        "Method: Descriptive statistics and box plot visualization\n",
        "\n",
        "This analysis method is appropriate for exploratory research on demographic influences. It assumes that each demographic category has a sufficient sample size to ensure reliable estimates of central tendency and spread. This method doesn’t assume normality, making it flexible for preliminary analysis. However, if significant patterns emerge, further statistical tests might be conducted to confirm these findings."
      ],
      "metadata": {
        "id": "eQ4fcz1CH9Tv"
      }
    },
    {
      "cell_type": "markdown",
      "source": [
        "**Hypothesis**: There are significant differences in CSCS scores based on demographic characteristics such as age and gender. If this hypothesis is confirmed, it suggests a need for targeted academic support for specific demographic groups, which could promote a more inclusive educational experience.\n",
        "\n",
        "\n",
        "---\n",
        "\n"
      ],
      "metadata": {
        "id": "pcrrjYQiNdWc"
      }
    },
    {
      "cell_type": "markdown",
      "source": [
        "**Research Question 2**"
      ],
      "metadata": {
        "id": "4n4TOZwYKWIU"
      }
    },
    {
      "cell_type": "markdown",
      "source": [
        "**Question**: To what extent do study habits affect CSCS scores? (e.g. study hours and study environment)\n",
        "\n",
        "This question aims to connect study behaviors with academic outcomes, providing a basis for understanding effective study strategies within this cohort. By analyzing study habits, we can determine if certain practices (like more study hours or a quieter environment) have a noticeable effect on CSCS scores, which may provide useful recommendations for students.\n",
        "\n",
        "Understanding the link between study habits and academic performance can empower students to make informed choices about their study strategies. If we find that certain environments or time investments lead to better results, students can be encouraged to adopt similar approaches to optimize their learning."
      ],
      "metadata": {
        "id": "VZu3WU-ZKbEM"
      }
    },
    {
      "cell_type": "markdown",
      "source": [
        "**Variables 2**: Study hours, study environment and CSCS scores\n",
        "\n",
        "For this analysis, I plan to calculate confidence intervals for the mean CSCS scores within different groups defined by study hours (e.g. low, medium, and high) and study environment (e.g. quiet vs. noisy).\n",
        "\n",
        "Bar charts with error bars representing confidence intervals can be used to visually compare the average scores between groups. This visualization will help reveal if certain study habits are associated with significantly higher scores, by making group differences more apparent.\n",
        "\n",
        "Confidence intervals will not only show the average scores but also illustrate the variability within each group. This will help determine if differences in CSCS scores are likely due to study habits or simply natural variations in the data."
      ],
      "metadata": {
        "id": "pbfcv2WjLIup"
      }
    },
    {
      "cell_type": "markdown",
      "source": [
        "**Analysis 2**:\n",
        "\n",
        "Method: Confidence interval analysis and bar charts with error bars\n",
        "\n",
        "The confidence interval approach is appropriate here as it provides both a central estimate and an error range, which can clarify whether differences between study habit groups are substantial. This method assumes that each group is roughly normally distributed, especially for smaller sample sizes."
      ],
      "metadata": {
        "id": "LispL4hpLTFL"
      }
    },
    {
      "cell_type": "markdown",
      "source": [
        "**Hypothesis**: Higher study hours and a quieter study environment correlate with higher CSCS scores. If proven true, this could encourage students to adopt more effective study practices to enhance their performance.\n",
        "\n",
        "\n",
        "---\n",
        "\n"
      ],
      "metadata": {
        "id": "9G03BoohN7ov"
      }
    },
    {
      "cell_type": "markdown",
      "source": [
        "**Research Question 3**"
      ],
      "metadata": {
        "id": "8FNxnQSiMLS6"
      }
    },
    {
      "cell_type": "markdown",
      "source": [
        "**Question**: Is there a significant improvement in CSCS scores from the beginning to the end of the course?\n",
        "\n",
        "Assessing whether students’ scores improve over time can help determine the effectiveness of the course. If we observe significant gains, this may indicate that the instructional strategies and course content are successful in enhancing student performance.\n",
        "\n",
        "Tracking progress across the course duration is fundamental to understanding the impact of the program. If students consistently improve, it would validate the instructional methods used. Conversely, if no significant improvement is found, the curriculum may need to be improved to better support learning outcomes."
      ],
      "metadata": {
        "id": "mzWQv4XYMPfT"
      }
    },
    {
      "cell_type": "markdown",
      "source": [
        "**Variables 3**: CSCS scores at multiple time points (start and end of course)\n",
        "\n",
        "I will conduct a paired t-test to compare CSCS scores at the beginning and end of the term to determine if the difference in scores is statistically significant.\n",
        "\n",
        "To visualize individual progress, a line plot showing each student’s score trajectory over time will be used. This can reveal overall trends while also highlighting any students who may have had unusual progress.\n",
        "\n",
        "A paired t-test is suitable because it directly measures changes in scores for the same group of students over time. The line plot will visually reinforce these results by demonstrating score improvements or declines on an individual level, offering a clearer picture of the overall impact of the course."
      ],
      "metadata": {
        "id": "RVZT0GUeMqIv"
      }
    },
    {
      "cell_type": "markdown",
      "source": [
        "**Analysis 3**:\n",
        "\n",
        "Method: Paired t-test and line plot visualization\n",
        "\n",
        "This method assumes that the differences in scores follow a normal distribution, which is typical for paired t-tests. The paired t-test, combined with a line plot, provides both statistical validation and a clear visual interpretation of score trends."
      ],
      "metadata": {
        "id": "K5NWtV5xM7Tx"
      }
    },
    {
      "cell_type": "markdown",
      "source": [
        "**Hypothesis**: Students' CSCS scores improve significantly from the start to the end of the course. A significant result would indicate that the course curriculum and teaching methods are effectively supporting student progress."
      ],
      "metadata": {
        "id": "96p3rujxOBSp"
      }
    }
  ]
}